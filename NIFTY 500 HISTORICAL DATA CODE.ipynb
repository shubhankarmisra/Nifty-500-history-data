import yfinance as yf
import pandas as pd

# List of stock symbols for the companies
companies = [
    "3MINDIA.NS", "ABB.NS", "ACC.NS", "AIAENG.NS", "APLAPOLLO.NS", "AUBANK.NS", "AARTIIND.NS", "AAVAS.NS",
    "ABBOTINDIA.NS", "ADANIPOWER.NS", "ABCAPITAL.NS", "ABFRL.NS", "AFFLE.NS", "AJANTPHARM.NS", "ALKEM.NS",
    "ALKYLAMINE.NS", "APOLLOTYRE.NS", "ASHOKLEY.NS", "ASTRAL.NS", "ATUL.NS", "AUROPHARMA.NS", "BALKRISIND.NS",
    "BANDHANBNK.NS", "BANKINDIA.NS", "BATAINDIA.NS", "BAYERCROP.NS", "BHARATFORG.NS", "BHEL.NS", "BIOCON.NS",
    "BLUEDART.NS", "CGPOWER.NS", "CRISIL.NS", "CLEAN.NS", "COFORGE.NS", "CONCOR.NS", "COROMANDEL.NS", "CROMPTON.NS",
    "CUMMINSIND.NS", "DALBHARAT.NS", "DEEPAKNTR.NS", "DELIVERY.NS", "DEVYANI.NS", "DIXON.NS", "LALPATHLAB.NS",
    "EMAMILTD.NS", "ENDURANCE.NS", "ESKAYEF.NS", "FEDERALBNK.NS", "FINEORG.NS", "FORTIS.NS", "GMRAIL.NS", "GICRE.NS",
    "GLAND.NS", "GLAXO.NS", "GODREJIND.NS", "GODREJPROP.NS", "GRINDWELL.NS", "GUJFLUORO.NS", "GUJGASLTD.NS",
    "HAPPSTMNDS.NS", "HINDPETRO.NS", "HINDZINC.NS", "HONAUT.NS", "ICICISEC.NS", "IDFCFIRSTB.NS", "INDIANB.NS",
    "INDHOTEL.NS", "IRFC.NS", "IGL.NS", "IPCALAB.NS", "JKCEMENT.NS", "JSWENERGY.NS", "JUBLFOOD.NS", "KPRMILL.NS",
    "KAJARIACER.NS", "KANSAINER.NS", "L&TFH.NS", "LTTS.NS", "LICHSGFIN.NS", "LAURUSLABS.NS", "LINDEINDIA.NS",
    "LUPIN.NS", "MRF.NS", "MACROTECH.NS", "M&MFIN.NS", "MANKIND.NS", "MFSL.NS", "MAXHEALTH.NS", "METROBRAND.NS",
    "MOTHERSUMI.NS", "MPHASIS.NS", "NHPC.NS", "NMDC.NS", "NAVINFLUOR.NS", "NAM-INDIA.NS", "OBEROIRLTY.NS", "OIL.NS",
    "ONE97.NS", "OFSS.NS", "PBFS.NS", "PATANJALI.NS", "PERSISTENT.NS", "PETRONET.NS", "PFIZER.NS", "PHOENIXLTD.NS",
    "PEL.NS", "POLYCAB.NS", "POONAWALLA.NS", "PFC.NS", "PRESTIGE.NS", "PNB.NS", "RECLTD.NS", "RAJESHEXPO.NS",
    "RELAXO.NS", "SKFINDIA.NS", "SCHAEFFLER.NS", "SRF.NS", "SOLARINDS.NS", "SONACOMSTAR.NS", "STAR.NS", "SAIL.NS",
    "SUMICHEM.NS", "SUNTV.NS", "SUNDARMFIN.NS", "SUNDRMFAST.NS", "SUPREMEIND.NS", "SYNGENE.NS", "TVSMOTOR.NS",
    "TATACHEM.NS", "TATACOMM.NS", "TATAELXSI.NS", "TATAMOTORS.NS", "NIACL.NS", "RAMCOCEM.NS", "THERMAX.NS",
    "TIMKEN.NS", "TORNTPOWER.NS", "TRENT.NS", "TRIDENT.NS", "TIINDIA.NS", "UNOMINDA.NS", "UNIONBANK.NS", "UBL.NS",
    "VEDL.NS", "VODAFONE.NS", "VOLTAS.NS", "WHIRLPOOL.NS", "YESBANK.NS", "ZFVCI.NS", "ZEEL.NS", "ZYDUSWELL.NS"
]

# Start and end dates for historical data
start_date = "2022-01-01"
end_date = "2023-09-17"

# Create an empty DataFrame to store the data
all_data = pd.DataFrame()

# Fetch historical stock data for each company with an interval of 1 month
for company in companies:
    data = yf.download(company, start=start_date, end=end_date, interval="1mo")
    data["Company"] = company  # Add a column to identify the company
    all_data = pd.concat([all_data, data])

# Reset the index to make the Date a regular column
all_data.reset_index(inplace=True)

# Reorder columns to have Company, Date, Open, High, Low, Close
all_data = all_data[["Company", "Date", "Open", "High", "Low", "Close"]]

# Save the data to an Excel file
output_file = "historical_stock_data.xlsx"
all_data.to_excel(output_file, index=False, engine="openpyxl")

print("Data has been saved to", output_file)
